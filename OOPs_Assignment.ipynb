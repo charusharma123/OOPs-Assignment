{
  "nbformat": 4,
  "nbformat_minor": 0,
  "metadata": {
    "colab": {
      "provenance": []
    },
    "kernelspec": {
      "name": "python3",
      "display_name": "Python 3"
    },
    "language_info": {
      "name": "python"
    }
  },
  "cells": [
    {
      "cell_type": "markdown",
      "source": [
        "# Python OOPs Assignment:"
      ],
      "metadata": {
        "id": "_HPiNDrhioIT"
      }
    },
    {
      "cell_type": "markdown",
      "source": [
        "1. What is Object-Oriented Programming (OOP)?\n",
        "- OOP is a programming paradigm based on the concept of \"objects,\" which can contain data, in the form of fields (often known as attributes or properties), and code, in the form of procedures (often known as methods). The key principles of OOP include encapsulation, inheritance, and polymorphism.\n",
        "\n",
        "2. What is a class in OOP?\n",
        "- A class is a blueprint or a template for creating objects. It defines the attributes (data) and methods (behavior) that objects of that class will have. Think of it as a cookie cutter – the class is the cutter, and the objects are the cookies.\n",
        "\n",
        "3. What is an object in OOP?\n",
        "- An object is an instance of a class. It is a concrete entity that has the attributes and behaviors defined by its class. Using the cookie cutter analogy, an object is one of the cookies created using the cutter.\n",
        "\n",
        "4. What is the difference between abstraction and encapsulation?\n",
        " * Abstraction: Focuses on hiding complex implementation details and showing only the necessary information to the user. It's about \"what\" an object does rather than \"how\" it does it. Achieved through abstract classes and interfaces.\n",
        " * Encapsulation: Bundles the data (attributes) and the methods that operate on the data within a single unit (a class). It also involves restricting direct access to some of the object's components, often using access modifiers (though Python's mechanism is slightly different). Encapsulation helps in data hiding and preventing accidental modification.\n",
        "\n",
        "5. What are dunder methods in Python?\n",
        "- Dunder methods (short for \"double underscore methods\") are special methods in Python that have double underscores at the beginning and end of their names (e.g., _init, __str_). They are used to define how objects of a class should behave in certain situations, such as initialization, string representation, arithmetic operations, and more. They are often called implicitly by Python's built-in functions or operators.\n",
        "\n",
        "6. Explain the concept of inheritance in OOP.\n",
        "- Inheritance is a mechanism that allows a new class (the subclass or derived class) to inherit properties (attributes and methods) from an existing class (the superclass or base class). This promotes code reusability and establishes an \"is-a\" relationship between classes. The subclass can also add new attributes and methods or override the inherited ones.\n",
        "\n",
        "7. What is polymorphism in OOP?\n",
        "- Polymorphism (meaning \"many forms\") is the ability of different objects to respond to the same method call in their own specific ways. It allows you to write code that can work with objects of different classes without needing to know their exact type, as long as they share a common interface (e.g., having a method with the same name).\n",
        "\n",
        "8. How is encapsulation achieved in Python?\n",
        "- While Python doesn't have strict access modifiers like private in some other languages, encapsulation is achieved through convention using name mangling with a double underscore prefix (). Attributes and methods with a double underscore are harder (but not impossible) to access from outside the class. Single underscore prefix (_) is also used to indicate that an attribute or method is intended for internal use but is not strictly enforced.\n",
        "\n",
        "9. What is a constructor in Python?\n",
        "- A constructor is a special method in a class that is automatically called when an object of that class is created. In Python, the constructor is the _init_ method. It is used to initialize the object's attributes.\n",
        "\n",
        "10. What are class and static methods in Python?\n",
        "- Class Methods: Bound to the class and not the instance of the class. They receive the class itself as the first argument (conventionally named cls). They can access and modify class-level attributes and call other class methods. They are defined using the @classmethod decorator.\n",
        "- Static Methods: Not bound to either the class or the instance. They are essentially regular functions that are placed within the class's namespace because they logically belong there. They don't receive any special first argument. They are defined using the @staticmethod decorator.\n",
        "\n",
        "11. What is method overloading in Python?\n",
        "- Method overloading, in the traditional sense of having multiple methods in the same class with the same name but different parameter lists, is not directly supported in Python in the same way as in some other languages like Java or C++. If you define multiple methods with the same name in a Python class, the last definition will override the earlier ones. However, you can achieve similar functionality using default argument values or variable-length argument lists (*args and **kwargs).\n",
        "\n",
        "12. What is method overriding in OOP?\n",
        "- Method overriding occurs when a subclass provides a specific implementation for a method that is already defined in its superclass. When the method is called on an object of the subclass, the subclass's version of the method is executed, effectively \"overriding\" the superclass's version. This is a key aspect of polymorphism.\n",
        "\n",
        "13. What is a property decorator in Python?\n",
        "- The @property decorator in Python is used to define getter, setter, and deleter methods for class attributes in a way that allows you to access them like regular attributes. It provides a way to implement controlled access to instance attributes, allowing you to add logic (like validation or computation) when getting, setting, or deleting an attribute.\n",
        "\n",
        "14. Why is polymorphism important in OOP?\n",
        "- Polymorphism enhances flexibility and extensibility in OOP. It allows you to write more generic and reusable code that can work with objects of different classes in a uniform way. This simplifies code maintenance and allows for easier addition of new classes without modifying existing code that interacts with them through a common interface.\n",
        "\n",
        "15. What is an abstract class in Python?\n",
        "- An abstract class is a class that cannot be instantiated directly. It serves as a blueprint for other classes. Abstract classes can contain abstract methods (methods without implementation) as well as concrete methods. Subclasses of an abstract class are typically required to provide concrete implementations for all the abstract methods inherited from the abstract class. In Python, you can create abstract classes using the abc (Abstract Base Classes) module and the @abstractmethod decorator.\n",
        "\n",
        "16. What are the advantages of OOP?\n",
        "The advantages of OOP include:\n",
        "- Modularity: Objects are self-contained units, making code easier to organize and understand.\n",
        "- Reusability: Inheritance allows you to reuse code from existing classes.\n",
        "- Maintainability: Changes in one object are less likely to affect other parts of the program.\n",
        "- Flexibility: Polymorphism allows for more adaptable and extensible code.\n",
        "- Data Hiding (Encapsulation): Protects the integrity of data by controlling access.\n",
        "- Abstraction: Simplifies complex systems by hiding unnecessary details.\n",
        "\n",
        "17. What is the difference between a class variable and an instance variable?\n",
        "- Class Variable: A variable that is defined within a class but outside any instance methods. It is shared by all instances (objects) of the class. Changes to a class variable affect all objects of that class.\n",
        "- Instance Variable: A variable that is associated with a specific instance (object) of a class. It is usually defined within the _init_ method using self. Each object has its own copy of instance variables, and changes to an instance variable of one object do not affect other objects.\n",
        "\n",
        "18. What is multiple inheritance in Python?\n",
        "- Multiple inheritance is a feature that allows a class to inherit attributes and methods from more than one parent class. Python supports multiple inheritance. When a method is called on an object of the derived class, Python follows a method resolution order (MRO), typically C3 linearization, to determine which method to execute from the inheritance hierarchy.\n",
        "\n",
        "19. Explain the purpose of _str_ and _repr_ methods in Python.\n",
        "- _str(self): This method is used to provide a human-readable string representation of an object. It is called by the built-in str() function and is used when you try to print an object. The output of __str_ should be informative and easy for users to understand.\n",
        "- _repr(self): This method is used to provide an unambiguous string representation of an object. Ideally, the string returned by __repr_ should be such that it can be used to recreate the object (e.g., eval(repr(obj)) == obj). If _str_ is not defined, Python will fall back to using the output of _repr_. It's often useful for debugging and development.\n",
        "\n",
        "20. What is the significance of the super() function in Python?\n",
        "- The super() function is used to call a method from a parent class. It is particularly useful in inheritance, especially with multiple inheritance, to ensure that methods in the superclasses are called correctly and in the right order according to the method resolution order (MRO). It helps avoid issues like the \"diamond problem\" in multiple inheritance.\n",
        "\n",
        "21. What is the significance of the _del_ method in Python?\n",
        "- The _del(self) method is a special method that is called when an object is about to be garbage collected (destroyed). It's intended to perform final cleanup operations, such as releasing resources (e.g., closing files or network connections). However, the exact timing of when __del_ is called is not guaranteed, as it depends on the garbage collection process. Therefore, it's generally recommended to use context managers (with statement) or explicit close() methods for resource management rather than relying solely on _del_.\n",
        "\n",
        "22. What is the difference between @staticmethod and @classmethod in Python?\n",
        "- @staticmethod: Defines a method that is not bound to the instance or the class. It's essentially a regular function within the class's namespace. It doesn't receive self or cls as its first argument. It's used when a method logically belongs to a class but doesn't need to access or modify the instance or class state.\n",
        "- @classmethod: Defines a method that is bound to the class and receives the class itself as the first argument (cls). It can access and modify class-level attributes and call other class methods. It's often used for creating factory methods or for performing operations that relate to the class as a whole.\n",
        "\n",
        "23. How does polymorphism work in Python with inheritance?\n",
        "- Polymorphism in Python with inheritance is achieved through method overriding. When a subclass inherits a method from a superclass, it can provide its own specific implementation of that method. When you call that method on an object, Python determines the object's actual type at runtime and executes the appropriate version of the method (either the superclass's or the subclass's). This allows you to treat objects of different classes in a uniform way if they share a common superclass or interface.\n",
        "\n",
        "24. What is method chaining in Python OOP?\n",
        "- Method chaining is a programming technique where multiple method calls are made on the same object in a sequence, with each method call returning the object itself (or a modified version of it). This allows for a more fluent and readable way to perform a series of operations on an object. It's often achieved by having methods return self.\n",
        "\n",
        "25. What is the purpose of the _call_ method in Python?\n",
        "- The _call(self, *args, **kwargs) method allows an object of a class to be called like a regular function. When you define the __call_ method in a class, you can then call an instance of that class using parentheses, just like you would call a function. This can be useful for creating objects that behave like functions or for implementing callable objects with internal state.\n"
      ],
      "metadata": {
        "id": "zMnQVQYTjWfx"
      }
    },
    {
      "cell_type": "markdown",
      "source": [
        "# Practical Questions:"
      ],
      "metadata": {
        "id": "cdecPDJBnOlF"
      }
    },
    {
      "cell_type": "markdown",
      "source": [
        "1. Animal and Dog (Inheritance and Method Overriding):\n"
      ],
      "metadata": {
        "id": "LabuvtMLoFl6"
      }
    },
    {
      "cell_type": "code",
      "source": [
        "class Animal:\n",
        "    def speak(self):\n",
        "        print(\"Generic animal sound\")\n",
        "\n",
        "class Dog(Animal):\n",
        "    def speak(self):\n",
        "        print(\"Bark\")\n",
        "\n",
        "animal = Animal()\n",
        "animal.speak()  # Output: Generic animal sound\n",
        "\n",
        "dog = Dog()\n",
        "dog.speak()"
      ],
      "metadata": {
        "colab": {
          "base_uri": "https://localhost:8080/"
        },
        "id": "yCqHs6LBoFWl",
        "outputId": "656b5f38-ff40-45a2-f858-d7c484823cf8"
      },
      "execution_count": null,
      "outputs": [
        {
          "output_type": "stream",
          "name": "stdout",
          "text": [
            "Generic animal sound\n",
            "Bark\n"
          ]
        }
      ]
    },
    {
      "cell_type": "markdown",
      "source": [
        "2. Shape, Circle, and Rectangle (Abstract Classes and Inheritance):\n"
      ],
      "metadata": {
        "id": "utXwEChToFFk"
      }
    },
    {
      "cell_type": "code",
      "source": [
        "from abc import ABC, abstractmethod\n",
        "import math\n",
        "\n",
        "class Shape(ABC):\n",
        "    @abstractmethod\n",
        "    def area(self):\n",
        "        pass\n",
        "\n",
        "class Circle(Shape):\n",
        "    def _init_(self, radius):\n",
        "        self.radius = radius\n",
        "\n",
        "    def area(self):\n",
        "        return math.pi * self.radius ** 2\n",
        "\n",
        "class Rectangle(Shape):\n",
        "    def _init_(self, length, width):\n",
        "        self.length = length\n",
        "        self.width = width\n",
        "\n",
        "    def area(self):\n",
        "        return self.length * self.width\n",
        "\n",
        "# ... (Create instances and call area())\n"
      ],
      "metadata": {
        "id": "1qvePzs7oE0N"
      },
      "execution_count": null,
      "outputs": []
    },
    {
      "cell_type": "markdown",
      "source": [
        "3. Vehicle, ElectricCar (Multi-level Inheritance):\n"
      ],
      "metadata": {
        "id": "JTcNB2yWoEkW"
      }
    },
    {
      "cell_type": "code",
      "source": [
        "class Vehicle:\n",
        "    # ... attributes and methods\n",
        "\n",
        "class Car():\n",
        "    # ... attributes and methods\n",
        "\n",
        "class ElectricCar():\n",
        "    def _init_(self, battery_capacity):\n",
        "        super()._init_()\n",
        "        self.battery_capacity = battery_capacity\n",
        "\n",
        "# ... (Create instances and use attributes)\n"
      ],
      "metadata": {
        "colab": {
          "base_uri": "https://localhost:8080/",
          "height": 109
        },
        "id": "bsNYyqugoEWS",
        "outputId": "1cf133ed-743c-4090-fc45-596e087c7501"
      },
      "execution_count": null,
      "outputs": [
        {
          "output_type": "error",
          "ename": "IndentationError",
          "evalue": "expected an indented block after class definition on line 1 (<ipython-input-6-2d6bd795f335>, line 4)",
          "traceback": [
            "\u001b[0;36m  File \u001b[0;32m\"<ipython-input-6-2d6bd795f335>\"\u001b[0;36m, line \u001b[0;32m4\u001b[0m\n\u001b[0;31m    class Car():\u001b[0m\n\u001b[0m    ^\u001b[0m\n\u001b[0;31mIndentationError\u001b[0m\u001b[0;31m:\u001b[0m expected an indented block after class definition on line 1\n"
          ]
        }
      ]
    },
    {
      "cell_type": "markdown",
      "source": [
        "4. Demonstrate polymorphism by creating a base class Bird with a method fly(). Create two derived classes Sparrow and Penguin that override the fly() method.\n"
      ],
      "metadata": {
        "id": "43KBF-K5oEGK"
      }
    },
    {
      "cell_type": "code",
      "source": [
        "class Bird:\n",
        "    def fly(self):\n",
        "        print(\"Generic bird flying\")\n",
        "\n",
        "class Sparrow(Bird):\n",
        "    def fly(self):\n",
        "        print(\"Sparrow is flying\")\n",
        "\n",
        "class Penguin(Bird):\n",
        "    def fly(self):\n",
        "        print(\"Penguin cannot fly, but it can swim\")\n",
        "\n",
        "def bird_action(bird):\n",
        "    bird.fly()\n",
        "\n",
        "bird = Bird()\n",
        "sparrow = Sparrow()\n",
        "penguin = Penguin()\n",
        "\n",
        "bird_action(bird)    # Output: Generic bird flying\n",
        "bird_action(sparrow) # Output: Sparrow is flying\n",
        "bird_action(penguin) # Output: Penguin cannot fly, but it can swim\n"
      ],
      "metadata": {
        "id": "bXI1r5Z-oD4e",
        "colab": {
          "base_uri": "https://localhost:8080/"
        },
        "outputId": "70a1c90b-f559-4196-e2a8-890a351c960a"
      },
      "execution_count": 1,
      "outputs": [
        {
          "output_type": "stream",
          "name": "stdout",
          "text": [
            "Generic bird flying\n",
            "Sparrow is flying\n",
            "Penguin cannot fly, but it can swim\n"
          ]
        }
      ]
    },
    {
      "cell_type": "markdown",
      "source": [
        "5. Write a program to demonstrate encapsulation by creating a class BankAccount with private attributes balance and methods to deposit, withdraw, and check balance.\n"
      ],
      "metadata": {
        "id": "7sXRtzf5oDoJ"
      }
    },
    {
      "cell_type": "code",
      "source": [
        "class BankAccount:\n",
        "    def _init_(self, account_number, initial_balance=0):\n",
        "        self.account_number = account_number\n",
        "        self.__balance = initial_balance  # Private attribute using name mangling\n",
        "\n",
        "    def deposit(self, amount):\n",
        "        if amount > 0:\n",
        "            self.__balance += amount\n",
        "            print(f\"Deposited ${amount}. New balance: ${self.__balance}\")\n",
        "        else:\n",
        "            print(\"Invalid deposit amount.\")\n",
        "\n",
        "    def withdraw(self, amount):\n",
        "        if 0 < amount <= self.__balance:\n",
        "            self.__balance -= amount\n",
        "            print(f\"Withdrew ${amount}. New balance: ${self.__balance}\")\n",
        "        else:\n",
        "            print(\"Insufficient funds or invalid withdrawal amount.\")\n",
        "def check_balance(self):\n",
        "        return self.__balance\n",
        "\n",
        "\n"
      ],
      "metadata": {
        "id": "-Tpn9DFioDbc"
      },
      "execution_count": 3,
      "outputs": []
    },
    {
      "cell_type": "markdown",
      "source": [
        "6. Demonstrate runtime polymorphism using a method play() in a base class Instrument. Derive classes Guitar and Piano that implement their own version of play().\n"
      ],
      "metadata": {
        "id": "WGtZaSwNoDKR"
      }
    },
    {
      "cell_type": "code",
      "source": [
        "class Instrument:\n",
        "    def play(self):\n",
        "        print(\"Generic instrument sound\")\n",
        "\n",
        "class Guitar(Instrument):\n",
        "    def play(self):\n",
        "        print(\"Strumming the guitar\")\n",
        "\n",
        "class Piano(Instrument):\n",
        "    def play(self):\n",
        "        print(\"Playing the piano keys\")\n",
        "\n",
        "def perform(instrument):\n",
        "    instrument.play()\n",
        "\n",
        "instrument = Instrument()\n",
        "guitar = Guitar()\n",
        "piano = Piano()\n",
        "\n",
        "perform(instrument) # Output: Generic instrument sound\n",
        "perform(guitar)     # Output: Strumming the guitar\n",
        "perform(piano)      # Output: Playing the piano keys\n"
      ],
      "metadata": {
        "id": "_Xq1wU34oC5g",
        "colab": {
          "base_uri": "https://localhost:8080/"
        },
        "outputId": "dd4a4e9c-0a02-45b4-87a3-b930e0dd788d"
      },
      "execution_count": 4,
      "outputs": [
        {
          "output_type": "stream",
          "name": "stdout",
          "text": [
            "Generic instrument sound\n",
            "Strumming the guitar\n",
            "Playing the piano keys\n"
          ]
        }
      ]
    },
    {
      "cell_type": "markdown",
      "source": [
        "7. Create a class MathOperations with a class method add_numbers() to add two numbers and a static method subtract_numbers() to subtract two numbers.\n"
      ],
      "metadata": {
        "id": "dRImKptVoCnz"
      }
    },
    {
      "cell_type": "code",
      "source": [
        "class MathOperations:\n",
        "    @classmethod\n",
        "    def add_numbers(cls, num1, num2):\n",
        "        return num1 + num2\n",
        "\n",
        "    @staticmethod\n",
        "    def subtract_numbers(num1, num2):\n",
        "        return num1 - num2\n",
        "\n",
        "result_add = MathOperations.add_numbers(5, 3)\n",
        "print(f\"Addition: {result_add}\")\n",
        "\n",
        "result_subtract = MathOperations.subtract_numbers(10, 4)\n",
        "print(f\"Subtraction: {result_subtract}\")\n"
      ],
      "metadata": {
        "id": "pmv4pULPoCZJ",
        "colab": {
          "base_uri": "https://localhost:8080/"
        },
        "outputId": "6bee9be9-7b76-4cb4-ac99-16e0ab1cad90"
      },
      "execution_count": 5,
      "outputs": [
        {
          "output_type": "stream",
          "name": "stdout",
          "text": [
            "Addition: 8\n",
            "Subtraction: 6\n"
          ]
        }
      ]
    },
    {
      "cell_type": "markdown",
      "source": [
        "8. Implement a class Person with a class method to count the total number of persons created.\n"
      ],
      "metadata": {
        "id": "OlNF0HJToCH_"
      }
    },
    {
      "cell_type": "code",
      "source": [
        "class Person:\n",
        "    count = 0  # Class variable to keep track of the count\n",
        "\n",
        "    def _init_(self, name):\n",
        "        self.name = name\n",
        "        Person.count += 1\n",
        "\n",
        "    @classmethod\n",
        "    def get_person_count(cls):\n",
        "        return cls.count\n",
        "\n",
        "person1 = Person()\n",
        "person2 = Person()\n",
        "person3 = Person()\n",
        "\n",
        "print(f\"Total persons created: {Person.get_person_count()}\")\n"
      ],
      "metadata": {
        "id": "7KSMDA5boB5E",
        "colab": {
          "base_uri": "https://localhost:8080/"
        },
        "outputId": "50c85818-ddfd-407e-d1b1-173d475c1a9f"
      },
      "execution_count": 7,
      "outputs": [
        {
          "output_type": "stream",
          "name": "stdout",
          "text": [
            "Total persons created: 0\n"
          ]
        }
      ]
    },
    {
      "cell_type": "markdown",
      "source": [
        "9. Write a class Fraction with attributes numerator and denominator. Override the _str_ method to display the fraction as 'numerator/denominator'.\n"
      ],
      "metadata": {
        "id": "Qr_-ROMFoBog"
      }
    },
    {
      "cell_type": "code",
      "source": [
        "class Fraction:\n",
        "    def _init_(self, num, den):\n",
        "        self.numerator = num\n",
        "        self.denominator = den\n",
        "\n",
        "    def _str_(self):\n",
        "        return f\"{self.numerator}/{self.denominator}\"\n",
        "\n",
        "fraction1 = Fraction()\n",
        "print(fraction1)\n",
        "\n",
        "fraction2 = Fraction()\n",
        "print(fraction2)\n",
        "\n"
      ],
      "metadata": {
        "id": "Hy5OKq7coBYy",
        "colab": {
          "base_uri": "https://localhost:8080/"
        },
        "outputId": "b70948f8-6b9c-4d64-88a3-a42b5e655a70"
      },
      "execution_count": 11,
      "outputs": [
        {
          "output_type": "stream",
          "name": "stdout",
          "text": [
            "<__main__.Fraction object at 0x7c1409636f10>\n",
            "<__main__.Fraction object at 0x7c1409637310>\n"
          ]
        }
      ]
    },
    {
      "cell_type": "markdown",
      "source": [
        "10. Demonstrate operator overloading by creating a class Vector and overriding the _add_ method to add two vectors.\n",
        "class Vector:\n"
      ],
      "metadata": {
        "id": "eQdGCUzeoBG5"
      }
    },
    {
      "cell_type": "code",
      "source": [
        "class Vector:\n",
        "    def _init_(self, x, y):\n",
        "        self.x = x\n",
        "        self.y = y\n",
        "\n",
        "    def _add_(self, other):\n",
        "        if isinstance(other, Vector):\n",
        "            return Vector(self.x + other.x, self.y + other.y)\n",
        "        else:\n",
        "            raise NotImplementedError(\"Can only add another Vector object\")\n",
        "\n",
        "    def _str_(self):\n",
        "        return f\"({self.x}, {self.y})\"\n",
        "\n",
        "\n"
      ],
      "metadata": {
        "id": "3xaqL1yDoA2f"
      },
      "execution_count": 17,
      "outputs": []
    },
    {
      "cell_type": "markdown",
      "source": [
        "11. Create a class Person with attributes name and age. Add a method greet() that prints \"Hello, my name is (name) and I am (age) years old.\"\n"
      ],
      "metadata": {
        "id": "QSOL5rvooAlJ"
      }
    },
    {
      "cell_type": "code",
      "source": [
        "class Person:\n",
        "    def _init_(self, name, age):\n",
        "        self.name = name\n",
        "        self.age = age\n",
        "\n",
        "    def greet(self):\n",
        "        print(f\"Hello, my name is {self.name} and I am {self.age} year old.\")\n",
        "\n",
        "\n",
        "\n"
      ],
      "metadata": {
        "id": "3oocTUehoASI"
      },
      "execution_count": 26,
      "outputs": []
    },
    {
      "cell_type": "markdown",
      "source": [
        "12. Implement a class Student with attributes name and grades. Create a method average_grade() to compute the average of the grades."
      ],
      "metadata": {
        "id": "XwIyFAQdndcG"
      }
    },
    {
      "cell_type": "code",
      "source": [
        "# Define the Student class\n",
        "class Student:\n",
        "    def _init_(self, name, grades):\n",
        "        self.name = name\n",
        "        self.grades = grades\n",
        "\n",
        "    def average_grade(self):\n",
        "        if self.grades:\n",
        "            return sum(self.grades) / len(self.grades)\n",
        "        return 0\n",
        "\n"
      ],
      "metadata": {
        "id": "ZqwFOIAIndBK"
      },
      "execution_count": 32,
      "outputs": []
    },
    {
      "cell_type": "markdown",
      "source": [
        "13. Create a class Rectangle with methods set_dimensions() to set the dimensions and area() to calculate the area.\n"
      ],
      "metadata": {
        "id": "y367Agwincv2"
      }
    },
    {
      "cell_type": "code",
      "source": [
        "class Rectangle:\n",
        "    def _init_(self):\n",
        "        self.length = 0\n",
        "        self.width = 0\n",
        "\n",
        "    def set_dimensions(self, length, width):\n",
        "        if length > 0 and width > 0:\n",
        "            self.length = length\n",
        "            self.width = width\n",
        "        else:\n",
        "            print(\"Dimensions must be positive.\")\n",
        "\n",
        "    def area(self):\n",
        "        return self.length * self.width\n",
        "\n",
        "rect = Rectangle()\n",
        "rect.set_dimensions(5, 10)\n",
        "print(f\"Area of rectangle: {rect.area()}\")\n",
        "\n",
        "rect.set_dimensions(-2, 7) # Invalid dimensions\n",
        "print(f\"Area of rectangle: {rect.area()}\") # Area remains based on previous valid dimensions\n"
      ],
      "metadata": {
        "id": "egx0XfR9ncft",
        "colab": {
          "base_uri": "https://localhost:8080/"
        },
        "outputId": "d84b23b4-f526-4406-92d1-d9261fbefca4"
      },
      "execution_count": 33,
      "outputs": [
        {
          "output_type": "stream",
          "name": "stdout",
          "text": [
            "Area of rectangle: 50\n",
            "Dimensions must be positive.\n",
            "Area of rectangle: 50\n"
          ]
        }
      ]
    },
    {
      "cell_type": "markdown",
      "source": [
        "14. Create a class Employee with a method calculate_salary() that computes the salary based on hours worked and hourly rate. Create a derived class Manager that adds a bonus to the salary.\n"
      ],
      "metadata": {
        "id": "AGqdIffxncK4"
      }
    },
    {
      "cell_type": "code",
      "source": [
        "class Employee:\n",
        "    def _init_(self, name, hourly_rate):\n",
        "        self.name = name\n",
        "        self.hourly_rate = hourly_rate\n",
        "\n",
        "    def calculate_salary(self, hours_worked):\n",
        "        return hours_worked * self.hourly_rate\n",
        "\n",
        "class Manager(Employee):\n",
        "    def _init_(self, name, hourly_rate, bonus):\n",
        "        super()._init_(name, hourly_rate)\n",
        "        self.bonus = bonus\n",
        "\n",
        "    def calculate_salary(self, hours_worked):\n",
        "        base_salary = super().calculate_salary(hours_worked)\n",
        "        return base_salary + self.bonus\n",
        "\n",
        "\n"
      ],
      "metadata": {
        "id": "u96jD96fnNqT"
      },
      "execution_count": 35,
      "outputs": []
    },
    {
      "cell_type": "markdown",
      "source": [
        "15. Create a class Product with attributes name, price, and quantity. Implement a method total_price() that calculates the total price of the product.\n"
      ],
      "metadata": {
        "id": "BDuCrv0N_x21"
      }
    },
    {
      "cell_type": "code",
      "source": [
        "class Product:\n",
        "    def _init_(self, name, price, quantity):\n",
        "        self.name = name\n",
        "        self.price = price\n",
        "        self.quantity = quantity\n",
        "\n",
        "    def total_price(self):\n",
        "        return self.price * self.quantity\n",
        "\n"
      ],
      "metadata": {
        "id": "EAOlN5_T_xhm"
      },
      "execution_count": 2,
      "outputs": []
    },
    {
      "cell_type": "markdown",
      "source": [
        "16. Create a class Animal with an abstract method sound(). Create two derived classes Cow and Sheep that implement the sound() method.\n"
      ],
      "metadata": {
        "id": "jmiuBFCdr8xr"
      }
    },
    {
      "cell_type": "code",
      "source": [
        "from abc import ABC, abstractmethod\n",
        "\n",
        "class Animal(ABC):\n",
        "    @abstractmethod\n",
        "    def sound(self):\n",
        "        pass\n",
        "\n",
        "class Cow(Animal):\n",
        "    def sound(self):\n",
        "        print(\"Moo!\")\n",
        "\n",
        "class Sheep(Animal):\n",
        "    def sound(self):\n",
        "        print(\"Baa!\")\n",
        "\n",
        "# You cannot create an instance of Animal directly:\n",
        "# animal = Animal() # This will raise a TypeError\n",
        "\n",
        "cow = Cow()\n",
        "cow.sound()\n",
        "\n",
        "sheep = Sheep()\n",
        "sheep.sound()\n"
      ],
      "metadata": {
        "colab": {
          "base_uri": "https://localhost:8080/"
        },
        "id": "QNWYIAYrr8ab",
        "outputId": "2f485c2d-3e67-4d31-8d7a-f4a29f1caedc"
      },
      "execution_count": 3,
      "outputs": [
        {
          "output_type": "stream",
          "name": "stdout",
          "text": [
            "Moo!\n",
            "Baa!\n"
          ]
        }
      ]
    },
    {
      "cell_type": "markdown",
      "source": [
        "17. Create a class Book with attributes title, author, and year_published. Add a method get_book_info() that returns a formatted string with the book's details.\n"
      ],
      "metadata": {
        "id": "sBgX6H_9r7-U"
      }
    },
    {
      "cell_type": "code",
      "source": [
        "class Book:\n",
        "    def _init_(self, title, author, year_published):\n",
        "        self.title = title\n",
        "        self.author = author\n",
        "        self.year_published = year_published\n",
        "\n",
        "    def get_book_info(self):\n",
        "        return f\"Title: {self.title}, Author: {self.author}, Year Published: {self.year_published}\"\n",
        "\n"
      ],
      "metadata": {
        "id": "zw3COBxSr7ms"
      },
      "execution_count": 4,
      "outputs": []
    },
    {
      "cell_type": "markdown",
      "source": [
        "18. Create a class House with attributes address and price. Create a derived class Mansion that adds an attribute number_of_rooms.\n"
      ],
      "metadata": {
        "id": "-uuxspm3r6Q8"
      }
    },
    {
      "cell_type": "code",
      "source": [
        "class House:\n",
        "    def _init_(self, address, price):\n",
        "        self.address = address\n",
        "        self.price = price\n",
        "\n",
        "    def display_house_info(self):\n",
        "        print(f\"Address: {self.address}, Price: ${self.price}\")\n",
        "\n",
        "class Mansion(House):\n",
        "    def _init_(self, address, price, number_of_rooms):\n",
        "        super()._init_(address, price)\n",
        "        self.number_of_rooms = number_of_rooms\n",
        "\n",
        "    def display_mansion_info(self):\n",
        "        super().display_house_info()\n",
        "        print(f\"Number of Rooms: {self.number_of_rooms}\")\n"
      ],
      "metadata": {
        "id": "ZewR7TDpr5OM"
      },
      "execution_count": 5,
      "outputs": []
    }
  ]
}